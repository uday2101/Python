{
  "nbformat": 4,
  "nbformat_minor": 0,
  "metadata": {
    "colab": {
      "name": "Types.ipynb",
      "provenance": [],
      "authorship_tag": "ABX9TyMO+3mU6A1xitBOGiFXNlBR",
      "include_colab_link": true
    },
    "kernelspec": {
      "name": "python3",
      "display_name": "Python 3"
    },
    "language_info": {
      "name": "python"
    }
  },
  "cells": [
    {
      "cell_type": "markdown",
      "metadata": {
        "id": "view-in-github",
        "colab_type": "text"
      },
      "source": [
        "<a href=\"https://colab.research.google.com/github/uday2101/Python/blob/main/Types.ipynb\" target=\"_parent\"><img src=\"https://colab.research.google.com/assets/colab-badge.svg\" alt=\"Open In Colab\"/></a>"
      ]
    },
    {
      "cell_type": "code",
      "execution_count": null,
      "metadata": {
        "colab": {
          "base_uri": "https://localhost:8080/"
        },
        "id": "Zp1vcu8mC5SD",
        "outputId": "33c7b982-b816-4d10-b591-ed2b76d27cde"
      },
      "outputs": [
        {
          "output_type": "execute_result",
          "data": {
            "text/plain": [
              "2.0"
            ]
          },
          "metadata": {},
          "execution_count": 4
        }
      ],
      "source": [
        "#TypeCasting : Conversion of one data type to another.\n",
        "float(2)"
      ]
    },
    {
      "cell_type": "code",
      "source": [
        "int(2.0)"
      ],
      "metadata": {
        "colab": {
          "base_uri": "https://localhost:8080/"
        },
        "id": "FpKsm5KuDl2I",
        "outputId": "4cf274c8-d6ab-4598-9c7f-41762a770619"
      },
      "execution_count": null,
      "outputs": [
        {
          "output_type": "execute_result",
          "data": {
            "text/plain": [
              "2"
            ]
          },
          "metadata": {},
          "execution_count": 6
        }
      ]
    },
    {
      "cell_type": "code",
      "source": [
        "#A string containing integer value can be converted to an integer. Whereas a string containing non-integer value will throw an error. \n",
        "int('1')"
      ],
      "metadata": {
        "colab": {
          "base_uri": "https://localhost:8080/"
        },
        "id": "rQCmxtQYELhb",
        "outputId": "123331e4-db1a-46d3-eff5-bbb09a4e3e5d"
      },
      "execution_count": null,
      "outputs": [
        {
          "output_type": "execute_result",
          "data": {
            "text/plain": [
              "1"
            ]
          },
          "metadata": {},
          "execution_count": 8
        }
      ]
    },
    {
      "cell_type": "code",
      "source": [
        "#Conversion of float and integer to string\n",
        "str(1)\n",
        "str(2.23)"
      ],
      "metadata": {
        "colab": {
          "base_uri": "https://localhost:8080/",
          "height": 36
        },
        "id": "GKRY-mD7EtGI",
        "outputId": "b5ccdadc-ceed-46d4-949e-f73a52725fec"
      },
      "execution_count": null,
      "outputs": [
        {
          "output_type": "execute_result",
          "data": {
            "text/plain": [
              "'2.23'"
            ],
            "application/vnd.google.colaboratory.intrinsic+json": {
              "type": "string"
            }
          },
          "metadata": {},
          "execution_count": 11
        }
      ]
    },
    {
      "cell_type": "code",
      "source": [
        "#Casting a boolean data type to int or float will return 1 for true and 0 for false.\n",
        "int(True)"
      ],
      "metadata": {
        "colab": {
          "base_uri": "https://localhost:8080/"
        },
        "id": "w_rRI_03E9Iv",
        "outputId": "3e61f781-1a57-4a06-d2c8-aa9a7779a5d5"
      },
      "execution_count": null,
      "outputs": [
        {
          "output_type": "execute_result",
          "data": {
            "text/plain": [
              "1"
            ]
          },
          "metadata": {},
          "execution_count": 13
        }
      ]
    },
    {
      "cell_type": "code",
      "source": [
        "#Some Mathematical Operations\n",
        "x = 43+12+5\n",
        "x\n",
        "type(x)"
      ],
      "metadata": {
        "colab": {
          "base_uri": "https://localhost:8080/"
        },
        "id": "2i5CNhhvGwxI",
        "outputId": "4529f54e-c1ae-40e2-d270-dcff724bf685"
      },
      "execution_count": null,
      "outputs": [
        {
          "output_type": "execute_result",
          "data": {
            "text/plain": [
              "int"
            ]
          },
          "metadata": {},
          "execution_count": 25
        }
      ]
    },
    {
      "cell_type": "code",
      "source": [
        "total_min = 43+57+42\n",
        "total_hour = total_min/60\n",
        "total_hour"
      ],
      "metadata": {
        "colab": {
          "base_uri": "https://localhost:8080/"
        },
        "id": "umP3v-KCHwYb",
        "outputId": "33f161f1-a5ac-4e9e-d796-995b5860f3a8"
      },
      "execution_count": null,
      "outputs": [
        {
          "output_type": "execute_result",
          "data": {
            "text/plain": [
              "2.3666666666666667"
            ]
          },
          "metadata": {},
          "execution_count": 27
        }
      ]
    },
    {
      "cell_type": "code",
      "source": [
        "#Strings in Python : A sequence of characters contained within double or single quotes.\n",
        "#It can be spaces or digits and even special characters\n",
        "name = \"Harvey Specter\"\n",
        "name\n",
        "name[1] # getting a particular character by specifying the index.\n",
        "\n",
        "#negative indexes can also be used , -1 corresponds to the last index\n",
        "name[-2]"
      ],
      "metadata": {
        "colab": {
          "base_uri": "https://localhost:8080/",
          "height": 36
        },
        "id": "ppCCbzkwL-GJ",
        "outputId": "d7ef5d20-9d43-4de4-f212-32ebf7148dea"
      },
      "execution_count": null,
      "outputs": [
        {
          "output_type": "execute_result",
          "data": {
            "text/plain": [
              "'e'"
            ],
            "application/vnd.google.colaboratory.intrinsic+json": {
              "type": "string"
            }
          },
          "metadata": {},
          "execution_count": 31
        }
      ]
    },
    {
      "cell_type": "code",
      "source": [
        "#String can be bound to another variable. It is helpful to think of a string as a list or a tuple.\n",
        "#String slicing \n",
        "name[0:6]"
      ],
      "metadata": {
        "colab": {
          "base_uri": "https://localhost:8080/",
          "height": 36
        },
        "id": "XVfNK9XxO0h4",
        "outputId": "56f9f0d2-df3b-4973-8d7a-3d98119b95f7"
      },
      "execution_count": null,
      "outputs": [
        {
          "output_type": "execute_result",
          "data": {
            "text/plain": [
              "'Harvey'"
            ],
            "application/vnd.google.colaboratory.intrinsic+json": {
              "type": "string"
            }
          },
          "metadata": {},
          "execution_count": 33
        }
      ]
    },
    {
      "cell_type": "code",
      "source": [
        "# A stride value can also be used as an input in the String\n",
        "name[::2] #this operation outputs every second element in the string"
      ],
      "metadata": {
        "colab": {
          "base_uri": "https://localhost:8080/",
          "height": 36
        },
        "id": "P6-hnK5hPk6A",
        "outputId": "8411300f-b964-4500-eeda-55ba563e7d1e"
      },
      "execution_count": null,
      "outputs": [
        {
          "output_type": "execute_result",
          "data": {
            "text/plain": [
              "'Hre pce'"
            ],
            "application/vnd.google.colaboratory.intrinsic+json": {
              "type": "string"
            }
          },
          "metadata": {},
          "execution_count": 35
        }
      ]
    },
    {
      "cell_type": "code",
      "source": [
        "#Slicing can further be incorporated in this \n",
        "name[0:6:2] #this operation returns every second value beginning from index 0 till the index 6"
      ],
      "metadata": {
        "colab": {
          "base_uri": "https://localhost:8080/",
          "height": 36
        },
        "id": "ca7tKLYiQX2x",
        "outputId": "a32eb187-dbe9-4766-9b6f-bf64bd129835"
      },
      "execution_count": null,
      "outputs": [
        {
          "output_type": "execute_result",
          "data": {
            "text/plain": [
              "'Hre'"
            ],
            "application/vnd.google.colaboratory.intrinsic+json": {
              "type": "string"
            }
          },
          "metadata": {},
          "execution_count": 37
        }
      ]
    },
    {
      "cell_type": "code",
      "source": [
        "#len command for the length of the string\n",
        "len(name)\n",
        "len(\"Uday\")"
      ],
      "metadata": {
        "colab": {
          "base_uri": "https://localhost:8080/"
        },
        "id": "WksGw8r3QyNC",
        "outputId": "be3b6662-c0e2-41b8-99fd-6d5ef49424ae"
      },
      "execution_count": null,
      "outputs": [
        {
          "output_type": "execute_result",
          "data": {
            "text/plain": [
              "4"
            ]
          },
          "metadata": {},
          "execution_count": 40
        }
      ]
    },
    {
      "cell_type": "code",
      "source": [
        "#Concatenation of Strings\n",
        "Statement = name+\" is the best\"\n",
        "Statement"
      ],
      "metadata": {
        "colab": {
          "base_uri": "https://localhost:8080/",
          "height": 36
        },
        "id": "3XEZS8t4RGmT",
        "outputId": "3d15b955-83f0-4d42-e68d-2c7ab50680ca"
      },
      "execution_count": null,
      "outputs": [
        {
          "output_type": "execute_result",
          "data": {
            "text/plain": [
              "'Harvey Specter is the best'"
            ],
            "application/vnd.google.colaboratory.intrinsic+json": {
              "type": "string"
            }
          },
          "metadata": {},
          "execution_count": 43
        }
      ]
    },
    {
      "cell_type": "code",
      "source": [
        "#Replicate values of a String \n",
        "3* name\n",
        "#Value of String cannot be changed i.e strings are immutable but we can create a new string"
      ],
      "metadata": {
        "colab": {
          "base_uri": "https://localhost:8080/",
          "height": 36
        },
        "id": "GaM4b9v5RmPZ",
        "outputId": "4e903c26-a1c0-47f0-b14b-4008726af68b"
      },
      "execution_count": null,
      "outputs": [
        {
          "output_type": "execute_result",
          "data": {
            "text/plain": [
              "'Harvey SpecterHarvey SpecterHarvey Specter'"
            ],
            "application/vnd.google.colaboratory.intrinsic+json": {
              "type": "string"
            }
          },
          "metadata": {},
          "execution_count": 46
        }
      ]
    },
    {
      "cell_type": "code",
      "source": [
        "#Escape sequences in Strings\n",
        "#\\ are meant to proceed escape sequences\n",
        "# escape sequences are strings that are difficult to input \n",
        "print(\"Harvey Specter is \\nthe best\") #\\n represents a new line\n",
        "print(\"Harvey Specter is \\tthe best\") #\\t represents a tab\n",
        "print(\"Harvey Specter is \\\\the best\") #to insert a back slash "
      ],
      "metadata": {
        "colab": {
          "base_uri": "https://localhost:8080/"
        },
        "id": "XfuPY6neS1zj",
        "outputId": "b888a59c-403e-46d4-f52d-4e1411519a40"
      },
      "execution_count": null,
      "outputs": [
        {
          "output_type": "stream",
          "name": "stdout",
          "text": [
            "Harvey Specter is \n",
            "the best\n",
            "Harvey Specter is \tthe best\n",
            "Harvey Specter is \\the best\n"
          ]
        }
      ]
    },
    {
      "cell_type": "code",
      "source": [
        "#String Methods : Two Types of Methods : Sequence Methods and String Methods.\n",
        "#Sequence Methods are those which can be applied to Lists and Tuples as well\n",
        "#String Methods are those which can be applied to strings only\n",
        "\n",
        "A = \"Thriller is the sixth studio album\"\n",
        "B = A.upper()\n",
        "B = A.replace('Thriller','Gordon')\n",
        "B\n",
        "A.find('six')"
      ],
      "metadata": {
        "colab": {
          "base_uri": "https://localhost:8080/"
        },
        "id": "5NsUNUk4VEfZ",
        "outputId": "c1273011-400e-4d63-c498-563f3ea426a0"
      },
      "execution_count": null,
      "outputs": [
        {
          "output_type": "execute_result",
          "data": {
            "text/plain": [
              "16"
            ]
          },
          "metadata": {},
          "execution_count": 6
        }
      ]
    },
    {
      "cell_type": "code",
      "source": [
        "x = input(\"Enter first number\")\n",
        "y = input(\"Enter the second number\")\n",
        "sum = int(x) + int(y)\n",
        "print(\"Sum is : \", sum)"
      ],
      "metadata": {
        "colab": {
          "base_uri": "https://localhost:8080/"
        },
        "id": "JiLspUM9ExWb",
        "outputId": "2e41c127-7e23-4eb2-f94e-bd6c4990a531"
      },
      "execution_count": 1,
      "outputs": [
        {
          "output_type": "stream",
          "name": "stdout",
          "text": [
            "Enter first number 1\n",
            "Enter the second number 243\n",
            "Sum is :  244\n"
          ]
        }
      ]
    }
  ]
}